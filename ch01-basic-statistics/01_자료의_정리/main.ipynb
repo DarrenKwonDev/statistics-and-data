{
 "cells": [
  {
   "cell_type": "code",
   "execution_count": null,
   "metadata": {},
   "outputs": [],
   "source": []
  }
 ],
 "metadata": {
  "kernelspec": {
   "display_name": "Python 3.10.6 ('.venv': venv)",
   "language": "python",
   "name": "python3"
  },
  "language_info": {
   "name": "python",
   "version": "3.10.6"
  },
  "orig_nbformat": 4,
  "vscode": {
   "interpreter": {
    "hash": "32a2aed4ddff77daf4ab4a3388c176e33b5a333d6ba4d3a14d28922649adcb0a"
   }
  }
 },
 "nbformat": 4,
 "nbformat_minor": 2
}
